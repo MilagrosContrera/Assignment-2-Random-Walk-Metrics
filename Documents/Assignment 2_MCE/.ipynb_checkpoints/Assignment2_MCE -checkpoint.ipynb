{
 "cells": [
  {
   "cell_type": "markdown",
   "id": "c76f1e87-4865-48ba-afaa-fa2c5e8e1e68",
   "metadata": {},
   "source": [
    "# Assignment 2  Random Walk Metrics\n",
    "\n",
    "**Name:** Milagros Contreras Elizalde \n",
    "\n",
    "**e-mail:** milagros.contreras8430@alumnos.udg.mx"
   ]
  },
  {
   "cell_type": "markdown",
   "id": "1cfb5ac8-b1f7-4476-80e9-18d429cdcc75",
   "metadata": {},
   "source": [
    "# Modules\n"
   ]
  },
  {
   "cell_type": "code",
   "execution_count": null,
   "id": "783ecb2b-c6bf-4b93-bade-d19b167b4264",
   "metadata": {},
   "outputs": [],
   "source": []
  }
 ],
 "metadata": {
  "kernelspec": {
   "display_name": "Python 3 (ipykernel)",
   "language": "python",
   "name": "python3"
  },
  "language_info": {
   "codemirror_mode": {
    "name": "ipython",
    "version": 3
   },
   "file_extension": ".py",
   "mimetype": "text/x-python",
   "name": "python",
   "nbconvert_exporter": "python",
   "pygments_lexer": "ipython3",
   "version": "3.12.5"
  }
 },
 "nbformat": 4,
 "nbformat_minor": 5
}
